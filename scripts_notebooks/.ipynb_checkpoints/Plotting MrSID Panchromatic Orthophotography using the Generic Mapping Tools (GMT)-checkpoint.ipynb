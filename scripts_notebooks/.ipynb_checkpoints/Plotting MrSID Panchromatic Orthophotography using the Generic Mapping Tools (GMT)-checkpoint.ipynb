{
 "cells": [
  {
   "cell_type": "markdown",
   "metadata": {},
   "source": [
    "<h3>Plotting MrSID Panchromatic Orthophotography using the Generic Mapping Tools (GMT)</h3>"
   ]
  },
  {
   "cell_type": "markdown",
   "metadata": {},
   "source": [
    "<h3>The Data:</h3>Orthophotos for the coast of North Carolina can be had online at the NC OneMap website: http://data.nconemap.com/geoportal/catalog/raster/download.page\n",
    "\n",
    "- (Step 0) Download the images needed using the interactive site selector\n",
    "\n",
    "\n",
    "- Note that the photos are provided formatted as Multi-resolution Spatially Integrated Database (MrSID) files. MrSID is a proprietary compression format, but can be read by most GIS's out in the \"wild\". "
   ]
  },
  {
   "cell_type": "markdown",
   "metadata": {},
   "source": [
    "<h3> The Process:</h3>"
   ]
  },
  {
   "cell_type": "markdown",
   "metadata": {},
   "source": [
    "<h4>Step 1:</h4> Identify the photos to be used in the mapping project from the total set downloaded from NC OneMap. \n",
    "\n",
    "Here, you may not wish to use all of the photos that you get from your trip over to the NC OneMap website. This might occur because the site, to my knowledge and understanding, does not permit the user to select and download individul image panels. Rather, you define an area of interest as a rectangular selection on the displaed map. All photos that fall completely or partially within that rectangle are included in your order. Use them all. Use only a subset. It's your call. \n",
    "\n",
    "Like most processes, there is more than one way to identify a subset of panels from the body downloaded. I just open QGIS, select all of the photos in the download bundle and drag them as a group into the app's TOC. From there, I pick and choose, moving those panels of interest in the Finder from their orginal download bundle folder out to another location (perhaps another folder created for the purpose). The remaining images can either be archived or deleted, as desired or necessitated by system and/or department policy constraints. "
   ]
  },
  {
   "cell_type": "markdown",
   "metadata": {},
   "source": [
    "<h4>Step 2:</h4> Convert the downloaded orthophotos from MrSID to GeoTIFF format\n",
    "\n",
    "As MrSID is a proprietary raster codec and storage format not every mapping tool can work with it---GMT is one which cannot. Thus, we have to transform the ortho-imagery into a useful format. Ultimately, we'll move everything to NetCDF, but since I've had mixed results when converting from SID directly to NetCDF, an intermediary format conversion is necessary (seems to work the best) to maintain the integrity of the images. That intermediary format is GeoTIFF...\n",
    "\n",
    "Using GDAL on the (a) command line:\n",
    "\n",
    "> gdal_translate -of GeoTiff 'name of MrSID image' 'name of new GeoTIFF image'\n",
    "\n",
    "we can do this in batch in Python..."
   ]
  },
  {
   "cell_type": "code",
   "execution_count": 2,
   "metadata": {
    "collapsed": false
   },
   "outputs": [
    {
     "name": "stdout",
     "output_type": "stream",
     "text": [
      "CompletedProcess(args='gdal_translate -of GTiff /Volumes/Beaker/projects/nc_coastal_erosion/data/photography/NH_prototype/OC6i0_37_000_30070902_20100411R0.sid /Volumes/Beaker/projects/nc_coastal_erosion/data/photography/NH_prototype/photo0.tif', returncode=0, stdout=b'Input file size is 10000, 10000\\n0...10...20...30...40...50...60...70...80...90...100 - done.\\n')\n",
      "CompletedProcess(args='gdal_translate -of GTiff /Volumes/Beaker/projects/nc_coastal_erosion/data/photography/NH_prototype/OC6i0_37_000_30071901_20100411R0.sid /Volumes/Beaker/projects/nc_coastal_erosion/data/photography/NH_prototype/photo1.tif', returncode=0, stdout=b'Input file size is 10000, 10000\\n0...10...20...30...40...50...60...70...80...90...100 - done.\\n')\n",
      "CompletedProcess(args='gdal_translate -of GTiff /Volumes/Beaker/projects/nc_coastal_erosion/data/photography/NH_prototype/OC6i0_37_000_30080004_20100411R0.sid /Volumes/Beaker/projects/nc_coastal_erosion/data/photography/NH_prototype/photo2.tif', returncode=0, stdout=b'Input file size is 10000, 10000\\n0...10...20...30...40...50...60...70...80...90...100 - done.\\n')\n"
     ]
    }
   ],
   "source": [
    "### Convert downloaded MrSID format to GeoTiff using gdal_translate:\n",
    "\n",
    "import subprocess, os\n",
    "fpath='/Volumes/Beaker/projects/nc_coastal_erosion/data/photography/NH_prototype/'\n",
    "\n",
    "# populate photo file list with the MrSID images found in the fpath subdirectory:\n",
    "dir = os.listdir(fpath)\n",
    "images=[fi  for fi in dir if(fi.endswith('.sid')) ]\n",
    "\n",
    "#images=['OC6i0_37_000_30070902_20100411R0.sid','OC6i0_37_000_30071901_20100411R0.sid','OC6i0_37_000_30080004_20100411R0.sid']\n",
    "\n",
    "for i, image in enumerate(images):\n",
    "    print(subprocess.run('gdal_translate -of GTiff '+fpath+image+' '+fpath+'photo'+str(i)+'.tif', shell=True, check=True, stdout=subprocess.PIPE))"
   ]
  },
  {
   "cell_type": "markdown",
   "metadata": {},
   "source": [
    "**Checking the resulting GeoTiff photos with gdalnfo...**\n",
    "\n",
    "The most imortant thing to check is the embedded projection metainfo--which is EPSG 3632 in this case, NC State Plane (NAD83/GRS80) in units of U.S. Survey Feet. Cool!"
   ]
  },
  {
   "cell_type": "markdown",
   "metadata": {},
   "source": [
    "<h4>Step 3:</h4>Mosaic the n converted GeoTiff photographs (where n is the number of individual files in the download set) into a single image file"
   ]
  },
  {
   "cell_type": "code",
   "execution_count": 17,
   "metadata": {
    "collapsed": false
   },
   "outputs": [
    {
     "name": "stdout",
     "output_type": "stream",
     "text": [
      "CompletedProcess(args='gdalwarp /Volumes/Beaker/projects/nc_coastal_erosion/data/photography/NH_prototype/photo0.tif /Volumes/Beaker/projects/nc_coastal_erosion/data/photography/NH_prototype/photo1.tif /Volumes/Beaker/projects/nc_coastal_erosion/data/photography/NH_prototype/photo2.tif  /Volumes/Beaker/projects/nc_coastal_erosion/data/photography/NH_prototype/mosaic.tif', returncode=0, stdout=b'Creating output file that is 20000P x 20000L.\\nProcessing input file /Volumes/Beaker/projects/nc_coastal_erosion/data/photography/NH_prototype/photo0.tif.\\n0...10...20...30...40...50...60...70...80...90...100 - done.\\nProcessing input file /Volumes/Beaker/projects/nc_coastal_erosion/data/photography/NH_prototype/photo1.tif.\\n0...10...20...30...40...50...60...70...80...90...100 - done.\\nProcessing input file /Volumes/Beaker/projects/nc_coastal_erosion/data/photography/NH_prototype/photo2.tif.\\n0...10...20...30...40...50...60...70...80...90...100 - done.\\n')\n"
     ]
    }
   ],
   "source": [
    "import subprocess, os\n",
    "fpath='/Volumes/Beaker/projects/nc_coastal_erosion/data/photography/NH_prototype/'\n",
    "#fpath='/Volumes/Cutter_John/projects/nc_coastal_erosion/data/photography/NH_prototype/'\n",
    "\n",
    "# create a string containing the list of all images files to be mosaiced:\n",
    "dir = os.listdir(fpath)\n",
    "images= ''.join(fpath+str(fi)+' ' for fi in dir if(fi.endswith('.tif')))\n",
    "\n",
    "print(subprocess.run('gdalwarp '+images+' '+fpath+'mosaic.tif', shell=True, check=True, stdout=subprocess.PIPE))\n",
    "#images\n",
    "#list1 = [1, 2, 3]\n",
    "#str1 = ''.join(str(e) for e in list1)"
   ]
  },
  {
   "cell_type": "markdown",
   "metadata": {},
   "source": [
    "<h4>Step 3:</h4>Convert the mosaiced GeoTiff to NetCDF format in prep. for plotting"
   ]
  },
  {
   "cell_type": "code",
   "execution_count": 18,
   "metadata": {
    "collapsed": false
   },
   "outputs": [
    {
     "name": "stdout",
     "output_type": "stream",
     "text": [
      "CompletedProcess(args='gdal_translate -of NetCDF /Volumes/Beaker/projects/nc_coastal_erosion/data/photography/NH_prototype/mosaic.tif /Volumes/Beaker/projects/nc_coastal_erosion/data/photography/NH_prototype/mosaic.grd', returncode=0, stdout=b'Input file size is 20000, 20000\\n0...10...20...30...40...50...60...70...80...90...100 - done.\\n')\n"
     ]
    }
   ],
   "source": [
    "### Convert the intermediate GeoTiff formatted photo to NetCDF using gdal_translate\n",
    "\n",
    "import subprocess\n",
    "fpath='/Volumes/Beaker/projects/nc_coastal_erosion/data/photography/NH_prototype/'\n",
    "#fpath='/Volumes/Cutter_John/projects/nc_coastal_erosion/data/photography/NH_prototype/'\n",
    "\n",
    "print(subprocess.run('gdal_translate -of NetCDF '+fpath+'mosaic.tif '+fpath+'mosaic.grd', shell=True, check=True, stdout=subprocess.PIPE))"
   ]
  },
  {
   "cell_type": "markdown",
   "metadata": {},
   "source": [
    "<h4>Step 5:</h4>Plot the mosiaced grd orthophotograph"
   ]
  },
  {
   "cell_type": "code",
   "execution_count": 16,
   "metadata": {
    "collapsed": false
   },
   "outputs": [
    {
     "name": "stdout",
     "output_type": "stream",
     "text": [
      "CompletedProcess(args='gmt makecpt -Cgray -T0/255/1 >/Volumes/Beaker/projects/nc_coastal_erosion/data/photography/NH_prototype/ctab.cpt', returncode=0)\n",
      "CompletedProcess(args=\"gmt grdimage /Volumes/Beaker/projects/nc_coastal_erosion/data/photography/NH_prototype/mosaic.grd -R/Volumes/Beaker/projects/nc_coastal_erosion/data/photography/NH_prototype/mosaic.grd -C/Volumes/Beaker/projects/nc_coastal_erosion/data/photography/NH_prototype/ctab.cpt -Bxaf -Byaf -BnSeW+t'Nags Head Prototype Project Site' >/Volumes/Beaker/projects/nc_coastal_erosion/data/photography/NH_prototype/NH_prototype.ps\", returncode=0, stdout=b'')\n",
      "CompletedProcess(args='gmt psconvert -Tf /Volumes/Beaker/projects/nc_coastal_erosion/data/photography/NH_prototype/NH_prototype.ps', returncode=0)\n"
     ]
    }
   ],
   "source": [
    "import subprocess\n",
    "\n",
    "fpath='/Volumes/Beaker/projects/nc_coastal_erosion/data/photography/NH_prototype/'\n",
    "\n",
    "gridfile = fpath+'mosaic.grd'\n",
    "mtitle='Nags Head Prototype Project Site'\n",
    "outfile=fpath+'NH_prototype.ps'\n",
    "ctable=fpath+'ctab.cpt'\n",
    "\n",
    "# generate the color table (ctable) to apply to the image during mapping:\n",
    "print(subprocess.run('gmt makecpt -Cgray -T0/255/1 >'+ctable, shell=True))\n",
    "\n",
    "# draw the mosaiced image:\n",
    "print(subprocess.run('gmt grdimage '+gridfile+' -R'+gridfile+' -C'+ctable+' -Bxaf -Byaf -BnSeW+t'+'\\''+mtitle+'\\' >'+outfile, shell=True, stdout=subprocess.PIPE))\n",
    "\n",
    "# for convenience, convert the postscript file to PDF:\n",
    "print(subprocess.run('gmt psconvert -Tf '+outfile, shell=True))"
   ]
  },
  {
   "cell_type": "code",
   "execution_count": null,
   "metadata": {
    "collapsed": true
   },
   "outputs": [],
   "source": []
  },
  {
   "cell_type": "markdown",
   "metadata": {},
   "source": [
    "<h3>Spare parts, sidebars, and bits...</h4>"
   ]
  },
  {
   "cell_type": "code",
   "execution_count": 8,
   "metadata": {
    "collapsed": false
   },
   "outputs": [
    {
     "data": {
      "text/plain": [
       "['photo0.tif', 'photo1.tif', 'photo2.tif']"
      ]
     },
     "execution_count": 8,
     "metadata": {},
     "output_type": "execute_result"
    }
   ],
   "source": [
    "import os\n",
    "\n",
    "fpath='/Volumes/Cutter John/projects/nc_coastal_erosion/data/photography/NH_prototype/'\n",
    "\n",
    "dir = os.listdir(fpath)\n",
    "images=[fi  for fi in dir if(fi.endswith('.tif')) ]\n",
    "\n",
    "images"
   ]
  },
  {
   "cell_type": "code",
   "execution_count": 36,
   "metadata": {
    "collapsed": false
   },
   "outputs": [
    {
     "name": "stdout",
     "output_type": "stream",
     "text": [
      "shell-init: error retrieving current directory: getcwd: cannot access parent directories: No such file or directory\n",
      "shell-init: error retrieving current directory: getcwd: cannot access parent directories: No such file or directory\n",
      "/Volumes/Beaker/projects/nc_coastal_erosion/scripts_notebooks/PlottingMrSID.sh: line 46: gmt: command not found\n"
     ]
    }
   ],
   "source": [
    "!sh /Volumes/Beaker/projects/nc_coastal_erosion/scripts_notebooks/PlottingMrSID.sh"
   ]
  },
  {
   "cell_type": "code",
   "execution_count": 33,
   "metadata": {
    "collapsed": false
   },
   "outputs": [
    {
     "name": "stdout",
     "output_type": "stream",
     "text": [
      "shell-init: error retrieving current directory: getcwd: cannot access parent directories: No such file or directory\r\n",
      "pwd: error retrieving current directory: getcwd: cannot access parent directories: No such file or directory\r\n",
      "pwd: error retrieving current directory: getcwd: cannot access parent directories: No such file or directory\r\n"
     ]
    }
   ],
   "source": [
    "!pwd"
   ]
  }
 ],
 "metadata": {
  "kernelspec": {
   "display_name": "Python 3",
   "language": "python",
   "name": "python3"
  },
  "language_info": {
   "codemirror_mode": {
    "name": "ipython",
    "version": 3
   },
   "file_extension": ".py",
   "mimetype": "text/x-python",
   "name": "python",
   "nbconvert_exporter": "python",
   "pygments_lexer": "ipython3",
   "version": "3.5.2"
  }
 },
 "nbformat": 4,
 "nbformat_minor": 2
}
