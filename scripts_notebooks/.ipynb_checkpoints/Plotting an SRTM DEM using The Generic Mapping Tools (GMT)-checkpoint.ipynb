{
 "cells": [
  {
   "cell_type": "markdown",
   "metadata": {},
   "source": [
    "<h3>Plotting Vector Data over a shaded DEM using GMT</h3>"
   ]
  },
  {
   "cell_type": "markdown",
   "metadata": {},
   "source": [
    "For this experiment and instructional discussion we'll use data from the Shuttle Radar Topography Mission (SRTM) for our areas of interest (AOIs). The SRTM data is 1 arc-second resolution (best rendition). It was captured in 2000 over a 10-day period aboard the Shuttle Endeavor. \n",
    "\n",
    "The SRTM data is found here:  http://earthexplorer.usgs.gov/\n",
    "\n",
    "The AOI (for this first experiment) is found along the Northeastern North Carolina Coast, in the Town of Nags Head, along North Carolina's Outer Banks. This section covers the southern two-thirds (approximately) of the town and overlaps a prototype area associated with a related project addressing ocean beach erosion and erosion mapping. \n",
    "\n",
    "<br>\n",
    "NOTES:\n",
    "- Here's a good tutorial resource for using GMT, and other open-source tool sets: https://casoilresource.lawr.ucdavis.edu/software/generic-mapping-tools-high-quality-map-production/"
   ]
  },
  {
   "cell_type": "markdown",
   "metadata": {},
   "source": [
    "**Here is our AOI:**\n",
    "\n",
    "![nagshead](../misc/NH_Prototype/Nags_Head_Study_Area.png)"
   ]
  },
  {
   "cell_type": "markdown",
   "metadata": {},
   "source": [
    "Download the STRM data from the USGS website. As the AOI is smaller than the minimum granularity of the 1° x 1° panels, we end up downloading much of the northern Outer Banks.\n",
    "\n",
    "\n",
    "Check the contents of the downloaded GeoTiff file n35_w076_1arc_v3.tif with GDAL's gdalinfo command tool:\n",
    "\n",
    "> gdalinfo n35_w076_1arc_v3.tif\n",
    "\n",
    "Driver: GTiff/GeoTIFF<br>\n",
    "Files: n35_w076_1arc_v3.tif<br>\n",
    "Size is 3601, 3601<br>\n",
    "Coordinate System is:\n",
    "GEOGCS[\"WGS 84\",<br>\n",
    "    DATUM[\"WGS_1984\",<br>\n",
    "        SPHEROID[\"WGS 84\",6378137,298.257223563,<br>\n",
    "            AUTHORITY[\"EPSG\",\"7030\"]],<br>\n",
    "        AUTHORITY[\"EPSG\",\"6326\"]],<br>\n",
    "    PRIMEM[\"Greenwich\",0],<br>\n",
    "    UNIT[\"degree\",0.0174532925199433],<br>\n",
    "    AUTHORITY[\"EPSG\",\"4326\"]]<br>\n",
    "Origin = (-76.000138888888884,36.000138888888884)<br>\n",
    "Pixel Size = (0.000277777777778,-0.000277777777778)<br>\n",
    "Metadata:<br>\n",
    "  AREA_OR_POINT=Point<br>\n",
    "  DTED_CompilationDate=0002<br>\n",
    "  DTED_DataEdition=02<br>\n",
    "  DTED_DigitizingSystem=SRTM      <br>\n",
    "  DTED_HorizontalAccuracy=0013<br>\n",
    "  DTED_HorizontalDatum=WGS84<br>\n",
    "  DTED_MaintenanceDate=0000<br>\n",
    "  DTED_MaintenanceDescription=0000<br>\n",
    "  DTED_MatchMergeDate=0000<br>\n",
    "  DTED_MatchMergeVersion=A<br>\n",
    "  DTED_NimaDesignator=DTED2<br>\n",
    "  DTED_OriginLatitude=0350000N<br>\n",
    "  DTED_OriginLongitude=0760000W<br>\n",
    "  DTED_Producer=USCNIMA <br>\n",
    "  DTED_RelHorizontalAccuracy=NA  <br>\n",
    "  DTED_RelVerticalAccuracy=0004<br>\n",
    "  DTED_SecurityCode_DSI=U<br>\n",
    "  DTED_SecurityCode_UHL=U  <br>\n",
    "  DTED_UniqueRef_DSI=G21 053        <br>\n",
    "  DTED_UniqueRef_UHL=G21 053     <br>\n",
    "  DTED_VerticalAccuracy_ACC=0005<br>\n",
    "  DTED_VerticalAccuracy_UHL=0005<br>\n",
    "  DTED_VerticalDatum=E96<br>\n",
    "Image Structure Metadata:<br>\n",
    "  INTERLEAVE=BAND<br>\n",
    "Corner Coordinates:<br>\n",
    "Upper Left  ( -76.0001389,  36.0001389) ( 76d 0' 0.50\"W, 36d 0' 0.50\"N)<br>\n",
    "Lower Left  ( -76.0001389,  34.9998611) ( 76d 0' 0.50\"W, 34d59'59.50\"N)<br>\n",
    "Upper Right ( -74.9998611,  36.0001389) ( 74d59'59.50\"W, 36d 0' 0.50\"N)<br>\n",
    "Lower Right ( -74.9998611,  34.9998611) ( 74d59'59.50\"W, 34d59'59.50\"N)<br>\n",
    "Center      ( -75.5000000,  35.5000000) ( 75d30' 0.00\"W, 35d30' 0.00\"N)<br>\n",
    "Band 1 Block=3601x1 Type=Int16, ColorInterp=Gray<br>\n",
    "  NoData Value=-32767<br>\n",
    "  Unit Type: m<br>\n",
    "  \n",
    "  \n"
   ]
  },
  {
   "cell_type": "markdown",
   "metadata": {},
   "source": [
    "- If you have multiple panels you can use gdalmerge\n",
    "\n",
    "- if you have need to change the map projection of the retrieved data use gdalwarp"
   ]
  },
  {
   "cell_type": "markdown",
   "metadata": {},
   "source": [
    "<h3>(Re)Projecting the data</h3>"
   ]
  },
  {
   "cell_type": "markdown",
   "metadata": {},
   "source": [
    "As the data are provided in GPs and our vector data (shorelines) are in NC State Plane feet, we'll go ahead and re-project the map tile...\n",
    "\n",
    "> gdalwarp -t_srs 'EPSG:102719' -tr 100 100 n35_w076_1arc_v3.tif nagshead_south.tif\n",
    "\n",
    "-t_srs '102719' is the target projection (referenced via the EPSG code: an ESRI variant on NC State Plane feet)\n",
    "\n",
    "-tr is the output or target resolution of the data (100 feet in this case)\n",
    "\n",
    "100 feet = (approx) 30 meters ==(approx) 1 arc-second"
   ]
  },
  {
   "cell_type": "markdown",
   "metadata": {
    "collapsed": true
   },
   "source": [
    "- Since GMT really prefers NetCDF to GeoTiff we'll go ahead and convert the reprojected (warped) nagshead_south data into NetCDF:\n",
    "\n",
    "> gdal_translate -of NetCDF nagshead_south.tif obx.grd\n",
    "\n",
    "- check the result in GMT:\n",
    "\n",
    "bash-3.x$ grdinfo obx.grd\n",
    "\n",
    "obx.grd: Title: GDAL Band Number 1\n",
    "obx.grd: Command: Wed Mar 22 11:29:46 2017: GDAL CreateCopy( obx.grd, ... )\n",
    "obx.grd: Remark: <br>\n",
    "obx.grd: Gridline node registration used [Cartesian grid] <br>\n",
    "obx.grd: Grid file format: ns = GMT netCDF format (16-bit integer), COARDS, CF-1.5 <br>\n",
    "obx.grd: x_min: 2887270.94172 x_max: 3197570.94172 x_inc: 100 name: x coordinate of projection n_columns: 3104 <br>\n",
    "obx.grd: y_min: 468535.231778 y_max: 842735.231778 y_inc: 100 name: y coordinate of projection n_rows: 3743 <br>\n",
    "obx.grd: z_min: NaN z_max: NaN name: GDAL Band Number 1 <br>\n",
    "obx.grd: scale_factor: 1 add_offset: 0 <br>\n",
    "obx.grd: format: classic"
   ]
  },
  {
   "cell_type": "markdown",
   "metadata": {},
   "source": [
    "- Create a basic color table for the DEM using the master color table dem2:\n",
    "\n",
    "> makecpt -Cdem2 -T0/1500/10 > color.cpt\n",
    "\n",
    "\n",
    "- to set water to be blue:\n",
    "\n",
    "using a text editor, edit color.cpt and add the following line to the beginning of the listing:\n",
    "\n",
    "0 0/0/255 0/1 0/0/255\n",
    "\n",
    "and, on the new second line change the leading 0 to 0.1 such that the first few lines of the file look something like this:\n",
    "\n",
    "0       0/0/255                 0.1     0/0/255<br>\n",
    "0.1     5.2267/105.17/63.16     10      5.2267/105.17/63.16<br>\n",
    "10      15.68/121.5/47.48       20      15.68/121.5/47.48<br>\n",
    "20      31.2/128.54/52.489      30      31.2/128.54/52.489<br>\n",
    "30      46.88/135.3/58.151      40      46.88/135.3/58.151<br>\n",
    "\n",
    "then, save."
   ]
  },
  {
   "cell_type": "markdown",
   "metadata": {},
   "source": [
    "Now, let's plot something...\n",
    "\n",
    "grdimage obx.grd -JX15 -Robx.grd -Ccolor.cpt -X1 -Y1 -P > obx.ps"
   ]
  },
  {
   "cell_type": "markdown",
   "metadata": {},
   "source": [
    "Finally, or maybe finally, export the PostScript file to PDF:\n",
    "\n",
    "psconvert -Tf obx.ps\n",
    "\n",
    "-T is the format switch\n",
    "-f sets the output format to PDF"
   ]
  }
 ],
 "metadata": {
  "kernelspec": {
   "display_name": "Python 3",
   "language": "python",
   "name": "python3"
  },
  "language_info": {
   "codemirror_mode": {
    "name": "ipython",
    "version": 3
   },
   "file_extension": ".py",
   "mimetype": "text/x-python",
   "name": "python",
   "nbconvert_exporter": "python",
   "pygments_lexer": "ipython3",
   "version": "3.5.2"
  }
 },
 "nbformat": 4,
 "nbformat_minor": 2
}
